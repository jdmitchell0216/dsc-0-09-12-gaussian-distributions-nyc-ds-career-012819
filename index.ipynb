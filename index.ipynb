{
 "cells": [
  {
   "cell_type": "markdown",
   "metadata": {},
   "source": [
    "# Normal/Gaussian Distribution\n",
    "\n",
    "## Introduction\n",
    "\n",
    "For data scientists and machine learning professionals, gaussian (or normal) distribution stands out as one of the most commonly used distribution model. This lesson provides an introduction to gaussian distribution, its characteristics and its significance towards data analytics. \n",
    "\n",
    "## Objectives\n",
    "You will be able to:\n",
    "\n",
    "* Understand the characteristics of a Gaussian Distribution\n",
    "* Identify examples in the real world that follow a Gaussian distribution\n",
    "* Explain why the Gaussian Distribution is so important to data scientists\n",
    "* How to generate and visualize normal distributions in Python"
   ]
  },
  {
   "cell_type": "markdown",
   "metadata": {},
   "source": [
    "## The normal distribution\n",
    "The normal distribution is the most important and most widely used distribution in statistics and analytics. It is also called the \"bell curve,\" due to its shape or the \"Gaussian curve\" after the mathematician Karl Friedrich Gauss. This shape results in plotting normally distributed data as a histogram. A smoothing function may be used to smooth the outer edges of distribution to achieve the said \"bell\" shape as shown below. "
   ]
  },
  {
   "cell_type": "markdown",
   "metadata": {},
   "source": [
    "![](bell.svg)"
   ]
  },
  {
   "cell_type": "markdown",
   "metadata": {},
   "source": [
    "Here is a first simple definition for normal distribution like shown above: \n",
    "\n",
    "> Normal distribution is symmetrical and its mean, median and mode are equal. \n",
    "\n",
    "## Measures of Center and Spread \n",
    "\n",
    "If you remember skewness, you would recognize there is no skew in a perfectly normal distribution.  It is **centered around its mean**.\n",
    "\n",
    "There could possibly be many normal distributions based on how they are defined. Normal distributions can differ in their means and in their standard deviations. \n",
    "\n",
    "<img src=\"3normal.png\" width = 400>"
   ]
  },
  {
   "cell_type": "markdown",
   "metadata": {},
   "source": [
    "The figure above shows four normal distributions. \n",
    "* The green distribution has a mean of -2 and a standard deviation of 0.5 \n",
    "* The distribution in blue has a mean of 0 and a standard deviation of 0.2.\n",
    "* The distribution in red has a mean of 0 and a standard deviation of 1. \n",
    "* The orange distribution has a mean 0 but a high spread with standard deviation 5.\n",
    "\n",
    "These as well as all other normal distributions are symmetric with relatively higher densities of values at the center of the distribution and relatively lower density in the tails. We can also show above normal distributions using cdf approach we saw earlier. Here is what above distributions would look like as a function of their cumulative probabilities. \n",
    "\n",
    "<img src=\"cdf.png\" width = 400>\n"
   ]
  },
  {
   "cell_type": "markdown",
   "metadata": {},
   "source": [
    "## Normal Density Function\n",
    "The density (number of values) of the normal distribution is reflected as the height for a given value on the x axis is shown below. A formula describing a normal distribution in terms of its tendencies of center and spread can be defined as:\n",
    "\n",
    "<img src = \"formula.jpg\" width=300>\n"
   ]
  },
  {
   "cell_type": "markdown",
   "metadata": {},
   "source": [
    "Do not worry if this expression confuses you at this stage. The key takeaway here is to understand that normal distributions can be defined, created, processed and visualized only using two parameters as shown above, mean and standard deviation (pi and e are the constants in this equation). \n",
    "\n",
    "## Normal Characteristics\n",
    "\n",
    "For now , we will identify normal distributions with following key characteristics. \n",
    "\n",
    "* Normal distributions are symmetric around their mean.\n",
    "* The mean, median, and mode of a normal distribution are equal.\n",
    "* The area under the bell curve is equal to 1.0.\n",
    "* Normal distributions are denser in the center and less dense in the tails.\n",
    "* Normal distributions are defined by two parameters, the mean (μ) and the standard deviation (σ).\n",
    "* Around 68% of the area of a normal distribution is within one standard deviation of the mean \n",
    "(μ - σ to μ + σ)\n",
    "* Approximately 95% of the area of a normal distribution is within two standard deviations of the mean ((μ - 2σ to μ + 2σ).\n",
    "\n",
    "Above characteristics can be better visualized with a slightly more detailed description below. Here the spread is differentiated between different levels of deviation. If a value is found in the red region, it is termed as \"within 1 standard deviation\". Blue and green regions and 2 and 3 standard deviation away from mean respectively.\n",
    "\n"
   ]
  },
  {
   "cell_type": "markdown",
   "metadata": {},
   "source": [
    "<img src=\"normalsd.jpg\" width = 700>\n"
   ]
  },
  {
   "cell_type": "markdown",
   "metadata": {},
   "source": [
    "This forms a 68-95-99.7 rule, i.e., 68% values of a normal distribution are within 1 standard deviation of mean, 95% within 2 standard deviations and 99.7 % within 3 standard deviations. So normally distributed data is considered ideal for analysis due to this simplicity of description. Values in the extreme of tails (3 sd+) can be considered \"interesting events\" as their probability of occurrence is less than usual. Or in some cases, you consider them as outliers due to noise or error of measurement. It all depends on your analysis question.  \n",
    "\n",
    "## Why so popular?\n",
    "\n",
    "Here are some more reasons why these are so popular among data scientists:"
   ]
  },
  {
   "cell_type": "markdown",
   "metadata": {},
   "source": [
    "### Ubiquitous in Natural Phenomena"
   ]
  },
  {
   "cell_type": "markdown",
   "metadata": {},
   "source": [
    "An amazingly vast number of natural processes naturally follows the Gaussian distribution. A simple normal distribution gives the best model approximation for natural processes like weight, height, blood pressure, IQ levels of human beings (key in social sciences). Errors committed during some measurements are also found to be naturally distributed so they can be modeled and isolated with ease. The income, expenditure and other social attributes of masses are normally distributed etc. \n",
    "\n",
    "<img src=\"smart.jpg\" width=400>\n"
   ]
  },
  {
   "cell_type": "markdown",
   "metadata": {},
   "source": [
    "### Central Limit Theorem\n",
    "\n",
    "Central limit theorem states: \n",
    ">When we add large number of independent random variables, irrespective of the original distribution of these variables, their normalized sum tends towards a Gaussian distribution.\n",
    "\n",
    "The theorem provides a reason why many natural phenomena follow Gaussian distribution.\n",
    "\n",
    "The key takeaway from central limit theorem is that fact that is allows different distributions to be processed as a normal distribution, even when they do not fulfill normality requirements shown above. We shall discuss this further when we talk about hypothesis testing \n",
    "\n",
    "[Here is an interesting youtube video highlighting this phenomenon](https://www.youtube.com/watch?v=AUSKTk9ENzg) for now. We will consider this in detail later. "
   ]
  },
  {
   "cell_type": "markdown",
   "metadata": {},
   "source": [
    "### Simplified Computation\n",
    "\n",
    "When undergoing transformations, a number of distributions tend to change their nature and may result as a totally new distribution. With normal distributions, we can add random variables, take their product or apply any other advanced transformations like Fourier and Convolution - the resulting distribution will always be normal. \n",
    "\n",
    "For every Gaussian model approximation, there may exist a complex multi-parameter distribution that gives better approximation. But still Gaussian is preferred because it makes the math a lot simpler!"
   ]
  },
  {
   "cell_type": "markdown",
   "metadata": {},
   "source": [
    "We shall explore normal distribution in great details through the course and how to define, process and visualize them in python. "
   ]
  },
  {
   "cell_type": "markdown",
   "metadata": {},
   "source": [
    "## Normal Distributions in Python "
   ]
  },
  {
   "cell_type": "markdown",
   "metadata": {},
   "source": [
    "In python, NumPy module provides a ton of methods to generate and inspect random variables. \n",
    "> The NumPy nickname for the normal distribution is **norm**. \n",
    "\n",
    "Here is how we can generate a random normal distribution by providing its parameters mu and sigma (mean and sd) to `np.random.norm()`, along with N (number of values to be generated for the normal distribution)."
   ]
  },
  {
   "cell_type": "code",
   "execution_count": 2,
   "metadata": {},
   "outputs": [
    {
     "name": "stderr",
     "output_type": "stream",
     "text": [
      "/opt/conda/envs/learn-env/lib/python3.6/site-packages/scipy/stats/stats.py:1713: FutureWarning: Using a non-tuple sequence for multidimensional indexing is deprecated; use `arr[tuple(seq)]` instead of `arr[seq]`. In the future this will be interpreted as an array index, `arr[np.array(seq)]`, which will result either in an error or a different result.\n",
      "  return np.add.reduce(sorted[indexer] * weights, axis=axis) / sumval\n"
     ]
    },
    {
     "data": {
      "image/png": "[encoded data removed]",
      "text/plain": [
       "<Figure size 432x288 with 1 Axes>"
      ]
     },
     "metadata": {
      "needs_background": "light"
     },
     "output_type": "display_data"
    }
   ],
   "source": [
    "import numpy as np\n",
    "import seaborn as sns\n",
    "\n",
    "mu, sigma = 0.5, 0.1\n",
    "N = 1000\n",
    "s = np.random.normal(mu, sigma, N)\n",
    "sns.distplot(s);"
   ]
  },
  {
   "cell_type": "code",
   "execution_count": 3,
   "metadata": {},
   "outputs": [
    {
     "data": {
      "text/plain": [
       "array([0.43385741, 0.63995946, 0.54740665, 0.49744089, 0.48236044,\n",
       "       0.53486838, 0.59685732, 0.4747873 , 0.65298494, 0.41051911,\n",
       "       0.38811147, 0.54273823, 0.48673326, 0.59349283, 0.46692701,\n",
       "       0.51168107, 0.64339211, 0.60871553, 0.52878391, 0.39705351,\n",
       "       0.42680755, 0.40307474, 0.49883524, 0.35346498, 0.40201034,\n",
       "       0.57890023, 0.43441589, 0.52479421, 0.5547218 , 0.51716623,\n",
       "       0.47983247, 0.48947026, 0.50127147, 0.56633423, 0.34465608,\n",
       "       0.40370192, 0.38650945, 0.44055694, 0.5174957 , 0.55149395,\n",
       "       0.43265118, 0.63824931, 0.48051346, 0.53874959, 0.78604408,\n",
       "       0.57326192, 0.33361675, 0.46670089, 0.57231282, 0.38088027,\n",
       "       0.44039595, 0.4035655 , 0.4897366 , 0.59122401, 0.62479964,\n",
       "       0.49196281, 0.68876545, 0.52141449, 0.60123375, 0.53144326,\n",
       "       0.45083967, 0.51738852, 0.41405417, 0.64217232, 0.54234353,\n",
       "       0.56253689, 0.48242498, 0.44488472, 0.4057858 , 0.74748963,\n",
       "       0.57796338, 0.55608669, 0.53576423, 0.3986857 , 0.46242289,\n",
       "       0.40627674, 0.42166453, 0.31228397, 0.36828046, 0.1964433 ,\n",
       "       0.55199121, 0.47103047, 0.54941039, 0.47442023, 0.41448883,\n",
       "       0.5286538 , 0.53322317, 0.46308057, 0.56386656, 0.4367683 ,\n",
       "       0.39023498, 0.41528987, 0.34396296, 0.52555575, 0.50949012,\n",
       "       0.41518185, 0.49092743, 0.67047949, 0.50731329, 0.72541358,\n",
       "       0.46983287, 0.50164038, 0.45509269, 0.61489372, 0.62338104,\n",
       "       0.54284259, 0.34828702, 0.46384938, 0.51621097, 0.37081549,\n",
       "       0.46851597, 0.55174037, 0.49366106, 0.54340184, 0.70740077,\n",
       "       0.64196564, 0.40358253, 0.44386995, 0.4073484 , 0.51720221,\n",
       "       0.26244064, 0.50029344, 0.44019874, 0.4795386 , 0.47858771,\n",
       "       0.5303849 , 0.34069614, 0.32062945, 0.65869195, 0.72926181,\n",
       "       0.32276622, 0.35488713, 0.53055293, 0.55200201, 0.29913654,\n",
       "       0.4705072 , 0.47913846, 0.39674635, 0.51200216, 0.50261705,\n",
       "       0.52668208, 0.26253697, 0.57176708, 0.38723638, 0.59981881,\n",
       "       0.37490317, 0.46584382, 0.44445153, 0.19236347, 0.38111959,\n",
       "       0.42426707, 0.39356895, 0.56224923, 0.49646088, 0.58489383,\n",
       "       0.39126091, 0.45783527, 0.51673857, 0.62706264, 0.38286612,\n",
       "       0.56530995, 0.54412708, 0.60232989, 0.5224394 , 0.59238839,\n",
       "       0.4488814 , 0.52633644, 0.55281108, 0.50575865, 0.54118104,\n",
       "       0.46315252, 0.51200245, 0.38819968, 0.51076406, 0.24366811,\n",
       "       0.5633945 , 0.57603202, 0.46803115, 0.43453942, 0.45641414,\n",
       "       0.46893919, 0.42761706, 0.50735137, 0.64543697, 0.31546525,\n",
       "       0.28602381, 0.55423221, 0.55107567, 0.62395753, 0.40815636,\n",
       "       0.35386519, 0.41557018, 0.63653892, 0.47462199, 0.60549949,\n",
       "       0.54497144, 0.3669555 , 0.55506852, 0.44179474, 0.29776225,\n",
       "       0.50859754, 0.68342526, 0.4022437 , 0.43976982, 0.49083197,\n",
       "       0.47390215, 0.6387897 , 0.57981376, 0.45919594, 0.63634739,\n",
       "       0.4390771 , 0.56054934, 0.5422527 , 0.46705324, 0.38951622,\n",
       "       0.28327228, 0.57026421, 0.51976289, 0.561391  , 0.46683133,\n",
       "       0.60159047, 0.4720538 , 0.43467726, 0.48859011, 0.51059814,\n",
       "       0.65674649, 0.67217987, 0.51479005, 0.55371678, 0.50529342,\n",
       "       0.54651356, 0.57457058, 0.37032579, 0.5887867 , 0.50505063,\n",
       "       0.62864484, 0.41734121, 0.46754759, 0.54270393, 0.5709514 ,\n",
       "       0.38763018, 0.50736183, 0.5803404 , 0.40314068, 0.41228439,\n",
       "       0.50049815, 0.54489044, 0.5778514 , 0.46912866, 0.54091628,\n",
       "       0.48152111, 0.55454948, 0.45569123, 0.25702383, 0.42540039,\n",
       "       0.57209655, 0.524864  , 0.41455322, 0.42697125, 0.35441821,\n",
       "       0.65136917, 0.38431317, 0.60579222, 0.36593175, 0.46784612,\n",
       "       0.48789551, 0.48010429, 0.41052618, 0.50881532, 0.5473691 ,\n",
       "       0.47416488, 0.43046155, 0.46024649, 0.44425713, 0.35932109,\n",
       "       0.4265377 , 0.4113512 , 0.56665851, 0.49770024, 0.36887182,\n",
       "       0.59561682, 0.4470411 , 0.50764324, 0.76328524, 0.37137526,\n",
       "       0.56936689, 0.33351097, 0.43150976, 0.48829564, 0.64607469,\n",
       "       0.50260418, 0.42048339, 0.44493673, 0.50792226, 0.48130035,\n",
       "       0.4086673 , 0.52390054, 0.63312487, 0.63592836, 0.47693871,\n",
       "       0.53670639, 0.26065049, 0.45165839, 0.53963318, 0.58773593,\n",
       "       0.5730725 , 0.41891722, 0.33135504, 0.51145429, 0.45086849,\n",
       "       0.42176628, 0.53312663, 0.37516364, 0.40311256, 0.52908077,\n",
       "       0.17862101, 0.49201526, 0.36261789, 0.70448446, 0.42985913,\n",
       "       0.3167811 , 0.51739773, 0.47392865, 0.49855094, 0.4456376 ,\n",
       "       0.33300075, 0.45443889, 0.47354296, 0.41878718, 0.45523372,\n",
       "       0.46508583, 0.60548947, 0.40484319, 0.61149713, 0.57892857,\n",
       "       0.58534398, 0.40474577, 0.43297659, 0.41013239, 0.44730663,\n",
       "       0.56779273, 0.34783792, 0.51422939, 0.82367668, 0.52477714,\n",
       "       0.48901858, 0.38962715, 0.62609076, 0.57935474, 0.48742891,\n",
       "       0.72732497, 0.48187253, 0.59683119, 0.4667735 , 0.66154858,\n",
       "       0.38469484, 0.52804079, 0.32897552, 0.57529874, 0.63351007,\n",
       "       0.30503259, 0.57131348, 0.62558249, 0.48204522, 0.30068049,\n",
       "       0.60957059, 0.39917823, 0.56577595, 0.47830787, 0.49033276,\n",
       "       0.43497341, 0.5100869 , 0.4381702 , 0.54743591, 0.37299493,\n",
       "       0.45478708, 0.52669927, 0.3589176 , 0.63255601, 0.76449143,\n",
       "       0.38113096, 0.40021764, 0.54539468, 0.47264504, 0.53287923,\n",
       "       0.56769959, 0.49426808, 0.4406823 , 0.60827054, 0.32530276,\n",
       "       0.69144431, 0.76482418, 0.55454373, 0.35779691, 0.4877058 ,\n",
       "       0.32049728, 0.51334745, 0.58598288, 0.65420431, 0.55102454,\n",
       "       0.40989656, 0.56567555, 0.46558318, 0.32893955, 0.6342932 ,\n",
       "       0.40290487, 0.49508418, 0.51023324, 0.51916724, 0.54323003,\n",
       "       0.60890608, 0.54704139, 0.64146994, 0.51123454, 0.50560715,\n",
       "       0.46317458, 0.43429563, 0.49046606, 0.5682215 , 0.52348905,\n",
       "       0.4139378 , 0.37891497, 0.3886891 , 0.49858816, 0.5065935 ,\n",
       "       0.27414189, 0.42911544, 0.45798779, 0.48150216, 0.5030763 ,\n",
       "       0.58463902, 0.50849861, 0.55364054, 0.524759  , 0.49009049,\n",
       "       0.55992693, 0.46368967, 0.48347744, 0.42246839, 0.55374493,\n",
       "       0.52357291, 0.75892106, 0.44501829, 0.67193793, 0.5815666 ,\n",
       "       0.45806372, 0.6180347 , 0.40000891, 0.55058838, 0.63462925,\n",
       "       0.4262385 , 0.42683525, 0.39311615, 0.48814005, 0.4571444 ,\n",
       "       0.57329441, 0.42096925, 0.65444739, 0.41902053, 0.36914466,\n",
       "       0.53183684, 0.48060987, 0.52752904, 0.41893694, 0.42868505,\n",
       "       0.57472065, 0.59712879, 0.33028204, 0.41279212, 0.44722951,\n",
       "       0.52744117, 0.61221682, 0.58537155, 0.49766723, 0.44904827,\n",
       "       0.48283142, 0.33254264, 0.59676552, 0.62374122, 0.62193012,\n",
       "       0.62312169, 0.36853068, 0.27695119, 0.64175533, 0.51442332,\n",
       "       0.5800084 , 0.51843544, 0.4211559 , 0.48202865, 0.54895447,\n",
       "       0.56365653, 0.6952634 , 0.45913843, 0.5238071 , 0.49237463,\n",
       "       0.48299708, 0.35586407, 0.43548852, 0.48133537, 0.45644985,\n",
       "       0.45785108, 0.36103404, 0.58996974, 0.52640897, 0.6056245 ,\n",
       "       0.51732011, 0.58696682, 0.42367864, 0.40381561, 0.37567329,\n",
       "       0.61534573, 0.45518038, 0.6342698 , 0.44891825, 0.43085453,\n",
       "       0.6373165 , 0.62131239, 0.65412422, 0.48421521, 0.29577328,\n",
       "       0.3389239 , 0.52980433, 0.53011822, 0.57266715, 0.36044541,\n",
       "       0.51014194, 0.51822289, 0.54275605, 0.44455261, 0.43449507,\n",
       "       0.45122987, 0.5992357 , 0.34636131, 0.48792815, 0.427941  ,\n",
       "       0.50431053, 0.44017565, 0.57067179, 0.38442287, 0.36927565,\n",
       "       0.54470538, 0.58380361, 0.63864028, 0.30521306, 0.55838783,\n",
       "       0.60913975, 0.61433415, 0.54517147, 0.58605372, 0.46999656,\n",
       "       0.42269902, 0.60313403, 0.60979316, 0.53524508, 0.41827339,\n",
       "       0.32172263, 0.40465272, 0.60452846, 0.44291553, 0.49623891,\n",
       "       0.47886183, 0.50994062, 0.57889203, 0.50998536, 0.33980485,\n",
       "       0.65342701, 0.44576425, 0.54702292, 0.52993163, 0.37477769,\n",
       "       0.18501937, 0.54286536, 0.60818393, 0.38516131, 0.44499442,\n",
       "       0.5045708 , 0.68540593, 0.64082665, 0.37217065, 0.56234745,\n",
       "       0.42944343, 0.55556081, 0.57492133, 0.63188956, 0.49829462,\n",
       "       0.52731941, 0.38550567, 0.48181603, 0.46869286, 0.41275048,\n",
       "       0.50699544, 0.30577875, 0.47590919, 0.33282033, 0.41941644,\n",
       "       0.46150197, 0.46000829, 0.61046283, 0.70043694, 0.51813541,\n",
       "       0.54475772, 0.45667743, 0.30918592, 0.44620955, 0.44353011,\n",
       "       0.39504097, 0.41441076, 0.63049828, 0.40003649, 0.36571319,\n",
       "       0.49958707, 0.65366806, 0.55275404, 0.36302094, 0.50211563,\n",
       "       0.37292768, 0.51644009, 0.50622794, 0.49791348, 0.32490983,\n",
       "       0.59816294, 0.48660543, 0.63995299, 0.61655036, 0.39775658,\n",
       "       0.31709048, 0.52291117, 0.60298643, 0.58358632, 0.33662851,\n",
       "       0.60279643, 0.44194864, 0.54143269, 0.4803871 , 0.44085609,\n",
       "       0.58711839, 0.48556509, 0.36406448, 0.43402251, 0.4139527 ,\n",
       "       0.5328739 , 0.4026565 , 0.59243957, 0.34701448, 0.53888598,\n",
       "       0.31781317, 0.43545052, 0.65514229, 0.51948293, 0.37216009,\n",
       "       0.50047608, 0.49279458, 0.52673839, 0.42231934, 0.65941204,\n",
       "       0.53938492, 0.47015687, 0.46018244, 0.46935784, 0.53928744,\n",
       "       0.34384165, 0.66936759, 0.53709188, 0.47499939, 0.59332636,\n",
       "       0.64287673, 0.51960964, 0.4111325 , 0.49060939, 0.38845127,\n",
       "       0.47181789, 0.53027267, 0.62475765, 0.58118048, 0.51905959,\n",
       "       0.57173065, 0.41858754, 0.42282279, 0.51012981, 0.51621562,\n",
       "       0.54063422, 0.30187666, 0.50151755, 0.4533096 , 0.5797525 ,\n",
       "       0.46785059, 0.46408133, 0.43185287, 0.3754557 , 0.70420653,\n",
       "       0.33035953, 0.54471737, 0.51465838, 0.53817467, 0.4107158 ,\n",
       "       0.40096647, 0.52884579, 0.52591001, 0.47614596, 0.52354855,\n",
       "       0.65895777, 0.35183457, 0.42908402, 0.38211108, 0.59624233,\n",
       "       0.53081675, 0.4565955 , 0.62009109, 0.62393084, 0.51220169,\n",
       "       0.39093617, 0.39366302, 0.43928229, 0.48293207, 0.35704696,\n",
       "       0.63158863, 0.44770826, 0.35831629, 0.32532112, 0.51469478,\n",
       "       0.53083563, 0.54415607, 0.45706729, 0.59077847, 0.45720399,\n",
       "       0.5082945 , 0.65010733, 0.51892944, 0.53992327, 0.5435099 ,\n",
       "       0.54589359, 0.49515637, 0.46941214, 0.55917802, 0.44176007,\n",
       "       0.47832487, 0.52315286, 0.37097103, 0.50631047, 0.66763429,\n",
       "       0.35234806, 0.56873322, 0.49771631, 0.56782577, 0.33784132,\n",
       "       0.66103592, 0.5561993 , 0.53482953, 0.44653423, 0.42434566,\n",
       "       0.74886135, 0.51183965, 0.48701506, 0.33518911, 0.52102956,\n",
       "       0.52203378, 0.61201638, 0.57368254, 0.41208781, 0.39300017,\n",
       "       0.47212356, 0.45200923, 0.51751139, 0.61276581, 0.35693942,\n",
       "       0.55136746, 0.50458077, 0.74097692, 0.59238117, 0.68107845,\n",
       "       0.41479005, 0.43567345, 0.678921  , 0.45134069, 0.55498011,\n",
       "       0.47307475, 0.63896153, 0.49280354, 0.38561358, 0.4529446 ,\n",
       "       0.54401295, 0.45397782, 0.50227179, 0.39132171, 0.39189918,\n",
       "       0.50899057, 0.49739442, 0.43648088, 0.73806912, 0.55140379,\n",
       "       0.53590689, 0.47031537, 0.643287  , 0.54644751, 0.59996944,\n",
       "       0.54985657, 0.48840729, 0.56517227, 0.42676031, 0.66359131,\n",
       "       0.41234879, 0.69109655, 0.5460332 , 0.51869412, 0.49124633,\n",
       "       0.2496926 , 0.51932566, 0.3772834 , 0.38192864, 0.48126621,\n",
       "       0.54917888, 0.52423037, 0.42987198, 0.53568566, 0.44770431,\n",
       "       0.44185824, 0.50604187, 0.62611831, 0.52794425, 0.37902822,\n",
       "       0.56200778, 0.46509297, 0.56510302, 0.62285783, 0.26433419,\n",
       "       0.44547511, 0.3876038 , 0.56605578, 0.34113793, 0.55146752,\n",
       "       0.43496245, 0.3211717 , 0.50315337, 0.50577729, 0.43726161,\n",
       "       0.59919576, 0.40660166, 0.49232118, 0.48918471, 0.4557522 ,\n",
       "       0.37309967, 0.51588925, 0.4598214 , 0.52488839, 0.3879207 ,\n",
       "       0.39861216, 0.44416719, 0.5013787 , 0.50731318, 0.2897954 ,\n",
       "       0.49892934, 0.54746885, 0.47641246, 0.48426551, 0.52974637,\n",
       "       0.46917817, 0.53612387, 0.65920202, 0.40894768, 0.34297486,\n",
       "       0.65495252, 0.41352307, 0.38083721, 0.61894117, 0.48165528,\n",
       "       0.44317166, 0.55388813, 0.49187301, 0.52595868, 0.64254617,\n",
       "       0.40585191, 0.48878936, 0.44973013, 0.59571131, 0.37363497,\n",
       "       0.54158052, 0.6112743 , 0.4985222 , 0.52937754, 0.44271725,\n",
       "       0.64934983, 0.42744786, 0.65050372, 0.36598996, 0.45522827,\n",
       "       0.54491945, 0.44179928, 0.56194587, 0.65717636, 0.40199564,\n",
       "       0.51595209, 0.54801612, 0.40227227, 0.3826479 , 0.42467395,\n",
       "       0.44723662, 0.36451678, 0.54538868, 0.52915325, 0.3737224 ,\n",
       "       0.57810287, 0.54645681, 0.41245082, 0.45209409, 0.60827275,\n",
       "       0.52372119, 0.47149612, 0.44441623, 0.4891492 , 0.42932768,\n",
       "       0.53054525, 0.58934339, 0.60819052, 0.60091233, 0.58061375,\n",
       "       0.42390342, 0.51154357, 0.71748417, 0.58182639, 0.52566911,\n",
       "       0.58234571, 0.60952117, 0.47130687, 0.54897618, 0.55048974,\n",
       "       0.53241269, 0.45494116, 0.52673072, 0.5521918 , 0.67606612,\n",
       "       0.36358534, 0.46163553, 0.40119384, 0.48393604, 0.63196852,\n",
       "       0.76120714, 0.38276348, 0.45231739, 0.51485683, 0.56296378,\n",
       "       0.52728763, 0.66452737, 0.40545319, 0.65358423, 0.48399597,\n",
       "       0.57042798, 0.23331476, 0.5281231 , 0.6394132 , 0.69198104,\n",
       "       0.37991747, 0.61726119, 0.50515114, 0.56073725, 0.35424154,\n",
       "       0.5223555 , 0.51615171, 0.49189723, 0.61750142, 0.40441663,\n",
       "       0.4799794 , 0.60778692, 0.62800025, 0.39898767, 0.34818551,\n",
       "       0.52813897, 0.49405768, 0.61967615, 0.39947129, 0.41895544,\n",
       "       0.40872742, 0.63484131, 0.62233161, 0.34074141, 0.65255356,\n",
       "       0.45300445, 0.40509081, 0.65682207, 0.33355918, 0.61842122,\n",
       "       0.47196416, 0.46243555, 0.40175273, 0.45798356, 0.53956037,\n",
       "       0.5273767 , 0.49381049, 0.59629882, 0.66070477, 0.55420862,\n",
       "       0.33207161, 0.51329897, 0.47128539, 0.59180141, 0.4135233 ,\n",
       "       0.4449508 , 0.48128465, 0.47676138, 0.40787948, 0.51193733])"
      ]
     },
     "execution_count": 3,
     "metadata": {},
     "output_type": "execute_result"
    }
   ],
   "source": [
    "s"
   ]
  },
  {
   "cell_type": "markdown",
   "metadata": {},
   "source": [
    "The density function of a normal distribution can also be plotted using matplotlib line plot and using the formula given above. We shall try this in our lab next."
   ]
  },
  {
   "cell_type": "markdown",
   "metadata": {},
   "source": [
    "## Summary \n",
    "\n",
    "This lesson provides an introduction to normal distributions as the common distributions in the field of statistics and data analysis. We looked at the key characteristics of normal distributions, their density function based on mean and standard deviations and briefly discussed the reasons behind their ubiquitous nature. "
   ]
  }
 ],
 "metadata": {
  "kernelspec": {
   "display_name": "Python 3",
   "language": "python",
   "name": "python3"
  },
  "language_info": {
   "codemirror_mode": {
    "name": "ipython",
    "version": 3
   },
   "file_extension": ".py",
   "mimetype": "text/x-python",
   "name": "python",
   "nbconvert_exporter": "python",
   "pygments_lexer": "ipython3",
   "version": "3.6.6"
  }
 },
 "nbformat": 4,
 "nbformat_minor": 2
}
